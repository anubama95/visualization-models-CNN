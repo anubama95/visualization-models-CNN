{
 "cells": [
  {
   "cell_type": "code",
   "execution_count": 1,
   "metadata": {},
   "outputs": [
    {
     "name": "stderr",
     "output_type": "stream",
     "text": [
      "Using TensorFlow backend.\n"
     ]
    },
    {
     "name": "stdout",
     "output_type": "stream",
     "text": [
      "WARNING:tensorflow:Large dropout rate: 0.65 (>0.5). In TensorFlow 2.x, dropout() uses dropout rate instead of keep_prob. Please ensure that this is intended.\n",
      "Model: \"sequential_1\"\n",
      "_________________________________________________________________\n",
      "Layer (type)                 Output Shape              Param #   \n",
      "=================================================================\n",
      "conv2d_1 (Conv2D)            (None, 148, 148, 32)      320       \n",
      "_________________________________________________________________\n",
      "max_pooling2d_1 (MaxPooling2 (None, 74, 74, 32)        0         \n",
      "_________________________________________________________________\n",
      "conv2d_2 (Conv2D)            (None, 72, 72, 64)        18496     \n",
      "_________________________________________________________________\n",
      "max_pooling2d_2 (MaxPooling2 (None, 36, 36, 64)        0         \n",
      "_________________________________________________________________\n",
      "conv2d_3 (Conv2D)            (None, 34, 34, 128)       73856     \n",
      "_________________________________________________________________\n",
      "max_pooling2d_3 (MaxPooling2 (None, 17, 17, 128)       0         \n",
      "_________________________________________________________________\n",
      "conv2d_4 (Conv2D)            (None, 15, 15, 256)       295168    \n",
      "_________________________________________________________________\n",
      "max_pooling2d_4 (MaxPooling2 (None, 7, 7, 256)         0         \n",
      "_________________________________________________________________\n",
      "flatten_1 (Flatten)          (None, 12544)             0         \n",
      "_________________________________________________________________\n",
      "dropout_1 (Dropout)          (None, 12544)             0         \n",
      "_________________________________________________________________\n",
      "dense_1 (Dense)              (None, 128)               1605760   \n",
      "_________________________________________________________________\n",
      "dense_2 (Dense)              (None, 33)                4257      \n",
      "=================================================================\n",
      "Total params: 1,997,857\n",
      "Trainable params: 1,997,857\n",
      "Non-trainable params: 0\n",
      "_________________________________________________________________\n"
     ]
    }
   ],
   "source": [
    "from keras import layers\n",
    "from keras import models\n",
    "from keras import regularizers\n",
    "\n",
    "model = models.Sequential()\n",
    "model.add(layers.Conv2D(32, (3, 3), activation='relu',input_shape=(150, 150, 1)))\n",
    "model.add(layers.MaxPooling2D((2, 2)))\n",
    "model.add(layers.Conv2D(64, (3, 3), activation='relu'))\n",
    "model.add(layers.MaxPooling2D((2, 2)))\n",
    "model.add(layers.Conv2D(128, (3, 3), activation='relu'))\n",
    "model.add(layers.MaxPooling2D((2, 2)))\n",
    "model.add(layers.Conv2D(256, (3, 3), activation='relu'))\n",
    "model.add(layers.MaxPooling2D((2, 2)))\n",
    "model.add(layers.Flatten())\n",
    "model.add(layers.Dropout(0.65))\n",
    "model.add(layers.Dense(128, activation='relu' ,kernel_regularizer=regularizers.l2(0.002)))\n",
    "model.add(layers.Dense(33, activation='softmax'))\n",
    "\n",
    "model.summary()"
   ]
  },
  {
   "cell_type": "code",
   "execution_count": 2,
   "metadata": {},
   "outputs": [],
   "source": [
    "from keras import optimizers\n",
    "model.compile(loss='categorical_crossentropy',\n",
    "optimizer=optimizers.Adam(lr=1e-3),\n",
    "metrics=['acc'])"
   ]
  },
  {
   "cell_type": "code",
   "execution_count": 3,
   "metadata": {},
   "outputs": [
    {
     "name": "stdout",
     "output_type": "stream",
     "text": [
      "Found 22110 images belonging to 33 classes.\n",
      "Found 4132 images belonging to 33 classes.\n"
     ]
    }
   ],
   "source": [
    "from keras.preprocessing.image import ImageDataGenerator\n",
    "\n",
    "train_dir = \"/home/asus/Desktop/Dataset_splits/train\"\n",
    "validation_dir = \"/home/asus/Desktop/Dataset_splits/validation\"\n",
    "\n",
    "train_datagen = ImageDataGenerator(rescale=1./255)\n",
    "validation_datagen = ImageDataGenerator(rescale=1./255)\n",
    "\n",
    "\n",
    "train_generator = train_datagen.flow_from_directory(\n",
    "    train_dir, \n",
    "    target_size=(150, 150),\n",
    "    color_mode='grayscale',\n",
    "    batch_size=64,\n",
    "    class_mode='categorical') \n",
    "\n",
    "\n",
    "validation_generator = validation_datagen.flow_from_directory(\n",
    "    validation_dir,\n",
    "    target_size=(150, 150),\n",
    "    color_mode='grayscale',\n",
    "    batch_size=64,\n",
    "    class_mode='categorical')"
   ]
  },
  {
   "cell_type": "code",
   "execution_count": 4,
   "metadata": {
    "scrolled": false
   },
   "outputs": [
    {
     "name": "stdout",
     "output_type": "stream",
     "text": [
      "Epoch 1/80\n",
      "100/100 [==============================] - 187s 2s/step - loss: 3.0044 - acc: 0.1814 - val_loss: 2.5540 - val_acc: 0.3092\n",
      "Epoch 2/80\n",
      "100/100 [==============================] - 178s 2s/step - loss: 2.1460 - acc: 0.4029 - val_loss: 1.8138 - val_acc: 0.4570\n",
      "Epoch 3/80\n",
      "100/100 [==============================] - 170s 2s/step - loss: 1.8605 - acc: 0.4906 - val_loss: 1.8710 - val_acc: 0.5422\n",
      "Epoch 4/80\n",
      "100/100 [==============================] - 177s 2s/step - loss: 1.6286 - acc: 0.5580 - val_loss: 1.6884 - val_acc: 0.6098\n",
      "Epoch 5/80\n",
      "100/100 [==============================] - 172s 2s/step - loss: 1.5755 - acc: 0.5773 - val_loss: 1.5777 - val_acc: 0.6032\n",
      "Epoch 6/80\n",
      "100/100 [==============================] - 172s 2s/step - loss: 1.4906 - acc: 0.6039 - val_loss: 1.4258 - val_acc: 0.6137\n",
      "Epoch 7/80\n",
      "100/100 [==============================] - 179s 2s/step - loss: 1.4182 - acc: 0.6317 - val_loss: 1.3737 - val_acc: 0.6443\n",
      "Epoch 8/80\n",
      "100/100 [==============================] - 170s 2s/step - loss: 1.2928 - acc: 0.6681 - val_loss: 1.3537 - val_acc: 0.6869\n",
      "Epoch 9/80\n",
      "100/100 [==============================] - 172s 2s/step - loss: 1.3315 - acc: 0.6623 - val_loss: 1.1490 - val_acc: 0.6915\n",
      "Epoch 10/80\n",
      "100/100 [==============================] - 180s 2s/step - loss: 1.2903 - acc: 0.6630 - val_loss: 1.1554 - val_acc: 0.7074\n",
      "Epoch 11/80\n",
      "100/100 [==============================] - 171s 2s/step - loss: 1.2391 - acc: 0.6819 - val_loss: 1.3255 - val_acc: 0.7243\n",
      "Epoch 12/80\n",
      "100/100 [==============================] - 172s 2s/step - loss: 1.1885 - acc: 0.7013 - val_loss: 1.1395 - val_acc: 0.6984\n",
      "Epoch 13/80\n",
      "100/100 [==============================] - 177s 2s/step - loss: 1.2478 - acc: 0.6819 - val_loss: 1.0726 - val_acc: 0.7386\n",
      "Epoch 14/80\n",
      "100/100 [==============================] - 175s 2s/step - loss: 1.1734 - acc: 0.7172 - val_loss: 0.8941 - val_acc: 0.7254\n",
      "Epoch 15/80\n",
      "100/100 [==============================] - 169s 2s/step - loss: 1.1106 - acc: 0.7245 - val_loss: 1.2073 - val_acc: 0.7373\n",
      "Epoch 16/80\n",
      "100/100 [==============================] - 179s 2s/step - loss: 1.1585 - acc: 0.7139 - val_loss: 1.1880 - val_acc: 0.7302\n",
      "Epoch 17/80\n",
      "100/100 [==============================] - 171s 2s/step - loss: 1.1724 - acc: 0.7113 - val_loss: 1.1654 - val_acc: 0.7405\n",
      "Epoch 18/80\n",
      "100/100 [==============================] - 171s 2s/step - loss: 1.1054 - acc: 0.7322 - val_loss: 1.1273 - val_acc: 0.7227\n",
      "Epoch 19/80\n",
      "100/100 [==============================] - 175s 2s/step - loss: 1.0794 - acc: 0.7389 - val_loss: 0.7699 - val_acc: 0.7617\n",
      "Epoch 20/80\n",
      "100/100 [==============================] - 171s 2s/step - loss: 1.0923 - acc: 0.7389 - val_loss: 0.8553 - val_acc: 0.7573\n",
      "Epoch 21/80\n",
      "100/100 [==============================] - 175s 2s/step - loss: 1.0529 - acc: 0.7522 - val_loss: 1.1350 - val_acc: 0.7544\n",
      "Epoch 22/80\n",
      "100/100 [==============================] - 176s 2s/step - loss: 1.0552 - acc: 0.7469 - val_loss: 0.9485 - val_acc: 0.7786\n",
      "Epoch 23/80\n",
      "100/100 [==============================] - 168s 2s/step - loss: 1.0323 - acc: 0.7606 - val_loss: 1.3125 - val_acc: 0.7482\n",
      "Epoch 24/80\n",
      "100/100 [==============================] - 172s 2s/step - loss: 1.0379 - acc: 0.7573 - val_loss: 1.1737 - val_acc: 0.7609\n",
      "Epoch 25/80\n",
      "100/100 [==============================] - 177s 2s/step - loss: 1.0456 - acc: 0.7581 - val_loss: 0.9182 - val_acc: 0.7852\n",
      "Epoch 26/80\n",
      "100/100 [==============================] - 188s 2s/step - loss: 1.0201 - acc: 0.7606 - val_loss: 1.1858 - val_acc: 0.7617\n",
      "Epoch 27/80\n",
      "100/100 [==============================] - 208s 2s/step - loss: 0.9982 - acc: 0.7777 - val_loss: 0.8726 - val_acc: 0.7722\n",
      "Epoch 28/80\n",
      "100/100 [==============================] - 219s 2s/step - loss: 0.9642 - acc: 0.7820 - val_loss: 1.3275 - val_acc: 0.7702\n",
      "Epoch 29/80\n",
      "100/100 [==============================] - 221s 2s/step - loss: 0.9800 - acc: 0.7747 - val_loss: 1.1612 - val_acc: 0.7702\n",
      "Epoch 30/80\n",
      "100/100 [==============================] - 209s 2s/step - loss: 0.9875 - acc: 0.7725 - val_loss: 0.9543 - val_acc: 0.7943\n",
      "Epoch 31/80\n",
      "100/100 [==============================] - 212s 2s/step - loss: 1.0218 - acc: 0.7663 - val_loss: 0.9057 - val_acc: 0.7713\n",
      "Epoch 32/80\n",
      "100/100 [==============================] - 220s 2s/step - loss: 0.9501 - acc: 0.7856 - val_loss: 1.2414 - val_acc: 0.7863\n",
      "Epoch 33/80\n",
      "100/100 [==============================] - 213s 2s/step - loss: 0.9762 - acc: 0.7841 - val_loss: 0.8904 - val_acc: 0.7743\n",
      "Epoch 34/80\n",
      "100/100 [==============================] - 214s 2s/step - loss: 1.0040 - acc: 0.7744 - val_loss: 1.1709 - val_acc: 0.7706\n",
      "Epoch 35/80\n",
      "100/100 [==============================] - 208s 2s/step - loss: 0.9473 - acc: 0.7947 - val_loss: 0.9817 - val_acc: 0.7974\n",
      "Epoch 36/80\n",
      "100/100 [==============================] - 214s 2s/step - loss: 0.9275 - acc: 0.7992 - val_loss: 0.9948 - val_acc: 0.7838\n",
      "Epoch 37/80\n",
      "100/100 [==============================] - 203s 2s/step - loss: 0.9442 - acc: 0.7898 - val_loss: 1.0239 - val_acc: 0.7728\n",
      "Epoch 38/80\n",
      "100/100 [==============================] - 166s 2s/step - loss: 0.9759 - acc: 0.7812 - val_loss: 0.9925 - val_acc: 0.7963\n",
      "Epoch 39/80\n",
      "100/100 [==============================] - 179s 2s/step - loss: 0.9205 - acc: 0.8000 - val_loss: 1.0695 - val_acc: 0.7932\n",
      "Epoch 40/80\n",
      "100/100 [==============================] - 173s 2s/step - loss: 0.9312 - acc: 0.8020 - val_loss: 1.0785 - val_acc: 0.8095\n",
      "Epoch 41/80\n",
      "100/100 [==============================] - 175s 2s/step - loss: 0.9336 - acc: 0.7981 - val_loss: 0.9283 - val_acc: 0.7974\n",
      "Epoch 42/80\n",
      "100/100 [==============================] - 169s 2s/step - loss: 0.9255 - acc: 0.8048 - val_loss: 1.0746 - val_acc: 0.7725\n",
      "Epoch 43/80\n",
      "100/100 [==============================] - 176s 2s/step - loss: 0.9044 - acc: 0.8067 - val_loss: 0.9112 - val_acc: 0.7919\n",
      "Epoch 44/80\n",
      "100/100 [==============================] - 171s 2s/step - loss: 0.9502 - acc: 0.7980 - val_loss: 0.8602 - val_acc: 0.7783\n",
      "Epoch 45/80\n",
      "100/100 [==============================] - 172s 2s/step - loss: 0.9672 - acc: 0.7861 - val_loss: 0.7303 - val_acc: 0.8121\n",
      "Epoch 46/80\n",
      "100/100 [==============================] - 173s 2s/step - loss: 0.8862 - acc: 0.8134 - val_loss: 0.9036 - val_acc: 0.8018\n",
      "Epoch 47/80\n",
      "100/100 [==============================] - 170s 2s/step - loss: 0.8815 - acc: 0.8163 - val_loss: 1.0534 - val_acc: 0.8014\n",
      "Epoch 48/80\n",
      "100/100 [==============================] - 171s 2s/step - loss: 0.9546 - acc: 0.7883 - val_loss: 1.0961 - val_acc: 0.8078\n",
      "Epoch 49/80\n",
      "100/100 [==============================] - 174s 2s/step - loss: 0.8815 - acc: 0.8195 - val_loss: 1.0632 - val_acc: 0.7889\n",
      "Epoch 50/80\n",
      "100/100 [==============================] - 173s 2s/step - loss: 0.8709 - acc: 0.8175 - val_loss: 1.0499 - val_acc: 0.7926\n",
      "Epoch 51/80\n",
      "100/100 [==============================] - 170s 2s/step - loss: 0.9049 - acc: 0.8130 - val_loss: 0.9450 - val_acc: 0.8190\n",
      "Epoch 52/80\n",
      "100/100 [==============================] - 173s 2s/step - loss: 0.9296 - acc: 0.8008 - val_loss: 0.8700 - val_acc: 0.7944\n",
      "Epoch 53/80\n",
      "100/100 [==============================] - 176s 2s/step - loss: 0.8817 - acc: 0.8148 - val_loss: 0.7947 - val_acc: 0.7952\n",
      "Epoch 54/80\n",
      "100/100 [==============================] - 170s 2s/step - loss: 0.8707 - acc: 0.8184 - val_loss: 0.9122 - val_acc: 0.8070\n",
      "Epoch 55/80\n",
      "100/100 [==============================] - 172s 2s/step - loss: 0.9062 - acc: 0.8100 - val_loss: 0.8965 - val_acc: 0.8157\n",
      "Epoch 56/80\n",
      "100/100 [==============================] - 169s 2s/step - loss: 0.8623 - acc: 0.8241 - val_loss: 0.9352 - val_acc: 0.8172\n",
      "Epoch 57/80\n",
      "100/100 [==============================] - 170s 2s/step - loss: 0.8657 - acc: 0.8195 - val_loss: 0.9625 - val_acc: 0.8147\n",
      "Epoch 58/80\n",
      "100/100 [==============================] - 192s 2s/step - loss: 0.8838 - acc: 0.8191 - val_loss: 1.0847 - val_acc: 0.8128\n",
      "Epoch 59/80\n",
      "100/100 [==============================] - 215s 2s/step - loss: 0.8894 - acc: 0.8153 - val_loss: 0.8034 - val_acc: 0.8168\n",
      "Epoch 60/80\n",
      "100/100 [==============================] - 215s 2s/step - loss: 0.8371 - acc: 0.8352 - val_loss: 1.3114 - val_acc: 0.8110\n",
      "Epoch 61/80\n",
      "100/100 [==============================] - 204s 2s/step - loss: 0.8660 - acc: 0.8283 - val_loss: 0.9640 - val_acc: 0.8190\n",
      "Epoch 62/80\n",
      "100/100 [==============================] - 218s 2s/step - loss: 0.9147 - acc: 0.8089 - val_loss: 1.0730 - val_acc: 0.8109\n",
      "Epoch 63/80\n",
      "100/100 [==============================] - 215s 2s/step - loss: 0.8118 - acc: 0.8400 - val_loss: 1.0666 - val_acc: 0.8049\n",
      "Epoch 64/80\n",
      "100/100 [==============================] - 212s 2s/step - loss: 0.8701 - acc: 0.8225 - val_loss: 1.1901 - val_acc: 0.8131\n",
      "Epoch 65/80\n",
      "100/100 [==============================] - 210s 2s/step - loss: 0.8889 - acc: 0.8220 - val_loss: 0.8930 - val_acc: 0.8069\n",
      "Epoch 66/80\n",
      "100/100 [==============================] - 220s 2s/step - loss: 0.8888 - acc: 0.8200 - val_loss: 1.0422 - val_acc: 0.8129\n",
      "Epoch 67/80\n",
      "100/100 [==============================] - 211s 2s/step - loss: 0.8252 - acc: 0.8392 - val_loss: 0.8227 - val_acc: 0.8249\n",
      "Epoch 68/80\n",
      "100/100 [==============================] - 212s 2s/step - loss: 0.8453 - acc: 0.8385 - val_loss: 1.1659 - val_acc: 0.8161\n",
      "Epoch 69/80\n",
      "100/100 [==============================] - 228s 2s/step - loss: 0.8686 - acc: 0.8284 - val_loss: 1.0600 - val_acc: 0.8242\n",
      "Epoch 70/80\n",
      "100/100 [==============================] - 183s 2s/step - loss: 0.8034 - acc: 0.8466 - val_loss: 0.9340 - val_acc: 0.7985\n",
      "Epoch 71/80\n",
      "100/100 [==============================] - 173s 2s/step - loss: 0.8416 - acc: 0.8410 - val_loss: 0.8504 - val_acc: 0.8198\n",
      "Epoch 72/80\n",
      "100/100 [==============================] - 174s 2s/step - loss: 0.8381 - acc: 0.8377 - val_loss: 0.8823 - val_acc: 0.8153\n",
      "Epoch 73/80\n",
      "100/100 [==============================] - 175s 2s/step - loss: 0.8481 - acc: 0.8361 - val_loss: 0.9527 - val_acc: 0.8010\n",
      "Epoch 74/80\n",
      "100/100 [==============================] - 172s 2s/step - loss: 0.8076 - acc: 0.8466 - val_loss: 0.7140 - val_acc: 0.8219\n",
      "Epoch 75/80\n",
      "100/100 [==============================] - 176s 2s/step - loss: 0.8219 - acc: 0.8376 - val_loss: 0.7977 - val_acc: 0.8275\n",
      "Epoch 76/80\n",
      "100/100 [==============================] - 171s 2s/step - loss: 0.8836 - acc: 0.8216 - val_loss: 0.8751 - val_acc: 0.8293\n",
      "Epoch 77/80\n",
      "100/100 [==============================] - 177s 2s/step - loss: 0.8079 - acc: 0.8478 - val_loss: 1.1287 - val_acc: 0.8031\n",
      "Epoch 78/80\n",
      "100/100 [==============================] - 175s 2s/step - loss: 0.8268 - acc: 0.8423 - val_loss: 0.8720 - val_acc: 0.8128\n",
      "Epoch 79/80\n",
      "100/100 [==============================] - 169s 2s/step - loss: 0.8299 - acc: 0.8444 - val_loss: 0.8301 - val_acc: 0.8157\n",
      "Epoch 80/80\n",
      "100/100 [==============================] - 178s 2s/step - loss: 0.8377 - acc: 0.8395 - val_loss: 1.3201 - val_acc: 0.8165\n"
     ]
    }
   ],
   "source": [
    "history = model.fit_generator(\n",
    "    train_generator,\n",
    "    steps_per_epoch=100,\n",
    "    epochs=80,\n",
    "    validation_data=validation_generator,\n",
    "    validation_steps=43)"
   ]
  },
  {
   "cell_type": "code",
   "execution_count": 5,
   "metadata": {},
   "outputs": [],
   "source": [
    "model.save('anugraymodel.h5') "
   ]
  },
  {
   "cell_type": "code",
   "execution_count": 6,
   "metadata": {},
   "outputs": [
    {
     "data": {
      "image/png": "[encoded data removed]",
      "text/plain": [
       "<Figure size 432x288 with 1 Axes>"
      ]
     },
     "metadata": {
      "needs_background": "light"
     },
     "output_type": "display_data"
    },
    {
     "data": {
      "image/png": "[encoded data removed]",
      "text/plain": [
       "<Figure size 432x288 with 1 Axes>"
      ]
     },
     "metadata": {
      "needs_background": "light"
     },
     "output_type": "display_data"
    }
   ],
   "source": [
    "import matplotlib.pyplot as plt\n",
    "%matplotlib inline\n",
    "\n",
    "acc = history.history['acc']\n",
    "val_acc = history.history['val_acc']\n",
    "loss = history.history['loss']\n",
    "val_loss = history.history['val_loss']\n",
    "epochs = range(1, len(acc) + 1)\n",
    "plt.plot(epochs, acc, 'bo', label='Training acc')\n",
    "plt.plot(epochs, val_acc, 'b', label='Validation acc')\n",
    "plt.title('Training and validation accuracy')\n",
    "plt.legend()\n",
    "plt.figure()\n",
    "plt.plot(epochs, loss, 'bo', label='Training loss')\n",
    "plt.plot(epochs, val_loss, 'b', label='Validation loss')\n",
    "plt.title('Training and validation loss')\n",
    "plt.legend()\n",
    "plt.show()"
   ]
  },
  {
   "cell_type": "code",
   "execution_count": 8,
   "metadata": {},
   "outputs": [
    {
     "name": "stdout",
     "output_type": "stream",
     "text": [
      "Found 1369 images belonging to 33 classes.\n"
     ]
    }
   ],
   "source": [
    "test_dir = \"/home/asus/Desktop/Dataset_splits/test\"\n",
    "\n",
    "test_datagen = ImageDataGenerator(rescale=1./255)\n",
    "\n",
    "\n",
    "test_generator = test_datagen.flow_from_directory(\n",
    "    test_dir, # Target directory\n",
    "    target_size=(150, 150), #Resizes all images to 150 × 150\n",
    "    color_mode='grayscale',\n",
    "    batch_size=32,\n",
    "    class_mode='categorical')"
   ]
  },
  {
   "cell_type": "code",
   "execution_count": 9,
   "metadata": {},
   "outputs": [],
   "source": [
    "score = model.evaluate_generator(test_generator, steps=40, max_queue_size=10, workers=1, use_multiprocessing=False, verbose=0)"
   ]
  },
  {
   "cell_type": "code",
   "execution_count": 10,
   "metadata": {},
   "outputs": [
    {
     "name": "stdout",
     "output_type": "stream",
     "text": [
      "[0.6590663194656372, 0.8453124761581421]\n"
     ]
    }
   ],
   "source": [
    "print(score)"
   ]
  },
  {
   "cell_type": "code",
   "execution_count": null,
   "metadata": {},
   "outputs": [],
   "source": []
  }
 ],
 "metadata": {
  "kernelspec": {
   "display_name": "Python 3",
   "language": "python",
   "name": "python3"
  },
  "language_info": {
   "codemirror_mode": {
    "name": "ipython",
    "version": 3
   },
   "file_extension": ".py",
   "mimetype": "text/x-python",
   "name": "python",
   "nbconvert_exporter": "python",
   "pygments_lexer": "ipython3",
   "version": "3.7.4"
  }
 },
 "nbformat": 4,
 "nbformat_minor": 2
}
