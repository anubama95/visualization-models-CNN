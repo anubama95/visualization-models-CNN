{
 "cells": [
  {
   "cell_type": "code",
   "execution_count": 1,
   "metadata": {},
   "outputs": [
    {
     "name": "stderr",
     "output_type": "stream",
     "text": [
      "Using TensorFlow backend.\n"
     ]
    },
    {
     "name": "stdout",
     "output_type": "stream",
     "text": [
      "WARNING:tensorflow:Large dropout rate: 0.6 (>0.5). In TensorFlow 2.x, dropout() uses dropout rate instead of keep_prob. Please ensure that this is intended.\n",
      "Model: \"sequential_1\"\n",
      "_________________________________________________________________\n",
      "Layer (type)                 Output Shape              Param #   \n",
      "=================================================================\n",
      "conv2d_1 (Conv2D)            (None, 148, 148, 32)      896       \n",
      "_________________________________________________________________\n",
      "max_pooling2d_1 (MaxPooling2 (None, 74, 74, 32)        0         \n",
      "_________________________________________________________________\n",
      "conv2d_2 (Conv2D)            (None, 72, 72, 64)        18496     \n",
      "_________________________________________________________________\n",
      "max_pooling2d_2 (MaxPooling2 (None, 36, 36, 64)        0         \n",
      "_________________________________________________________________\n",
      "conv2d_3 (Conv2D)            (None, 34, 34, 128)       73856     \n",
      "_________________________________________________________________\n",
      "max_pooling2d_3 (MaxPooling2 (None, 17, 17, 128)       0         \n",
      "_________________________________________________________________\n",
      "conv2d_4 (Conv2D)            (None, 15, 15, 256)       295168    \n",
      "_________________________________________________________________\n",
      "max_pooling2d_4 (MaxPooling2 (None, 7, 7, 256)         0         \n",
      "_________________________________________________________________\n",
      "flatten_1 (Flatten)          (None, 12544)             0         \n",
      "_________________________________________________________________\n",
      "dropout_1 (Dropout)          (None, 12544)             0         \n",
      "_________________________________________________________________\n",
      "dense_1 (Dense)              (None, 256)               3211520   \n",
      "_________________________________________________________________\n",
      "dense_2 (Dense)              (None, 33)                8481      \n",
      "=================================================================\n",
      "Total params: 3,608,417\n",
      "Trainable params: 3,608,417\n",
      "Non-trainable params: 0\n",
      "_________________________________________________________________\n"
     ]
    }
   ],
   "source": [
    "from keras import layers\n",
    "from keras import models\n",
    "from keras import regularizers\n",
    "\n",
    "model = models.Sequential()\n",
    "model.add(layers.Conv2D(32, (3, 3), activation='relu',input_shape=(150, 150, 3)))\n",
    "model.add(layers.MaxPooling2D((2, 2)))\n",
    "model.add(layers.Conv2D(64, (3, 3), activation='relu'))\n",
    "model.add(layers.MaxPooling2D((2, 2)))\n",
    "model.add(layers.Conv2D(128, (3, 3), activation='relu'))\n",
    "model.add(layers.MaxPooling2D((2, 2)))\n",
    "model.add(layers.Conv2D(256, (3, 3), activation='relu'))\n",
    "model.add(layers.MaxPooling2D((2, 2)))\n",
    "model.add(layers.Flatten())\n",
    "model.add(layers.Dropout(0.6))\n",
    "model.add(layers.Dense(256, activation='relu' ,kernel_regularizer=regularizers.l2(0.002)))\n",
    "model.add(layers.Dense(33, activation='softmax'))\n",
    "\n",
    "model.summary()\n"
   ]
  },
  {
   "cell_type": "code",
   "execution_count": 2,
   "metadata": {},
   "outputs": [],
   "source": [
    "from keras import optimizers\n",
    "model.compile(loss='categorical_crossentropy',\n",
    "optimizer=optimizers.Adam(lr=1e-3),\n",
    "metrics=['acc'])"
   ]
  },
  {
   "cell_type": "code",
   "execution_count": 3,
   "metadata": {},
   "outputs": [
    {
     "name": "stdout",
     "output_type": "stream",
     "text": [
      "Found 22110 images belonging to 33 classes.\n",
      "Found 4132 images belonging to 33 classes.\n"
     ]
    }
   ],
   "source": [
    "from keras.preprocessing.image import ImageDataGenerator\n",
    "\n",
    "train_dir = \"/home/asus/Desktop/Dataset_splits/train/\"\n",
    "validation_dir = \"/home/asus/Desktop/Dataset_splits/validation/\"\n",
    "\n",
    "train_datagen = ImageDataGenerator(rescale=1./255)\n",
    "validation_datagen = ImageDataGenerator(rescale=1./255)\n",
    "\n",
    "\n",
    "train_generator = train_datagen.flow_from_directory(\n",
    "    train_dir, # Target directory\n",
    "    target_size=(150, 150), \n",
    "    batch_size=64,\n",
    "    class_mode='categorical') \n",
    "\n",
    "\n",
    "validation_generator = validation_datagen.flow_from_directory(\n",
    "    validation_dir,\n",
    "    target_size=(150, 150),\n",
    "    batch_size=64,\n",
    "    class_mode='categorical')"
   ]
  },
  {
   "cell_type": "code",
   "execution_count": 4,
   "metadata": {
    "scrolled": false
   },
   "outputs": [
    {
     "name": "stdout",
     "output_type": "stream",
     "text": [
      "Epoch 1/80\n",
      "100/100 [==============================] - 173s 2s/step - loss: 2.7165 - acc: 0.3131 - val_loss: 1.9765 - val_acc: 0.4622\n",
      "Epoch 2/80\n",
      "100/100 [==============================] - 172s 2s/step - loss: 1.6774 - acc: 0.5664 - val_loss: 1.5747 - val_acc: 0.6061\n",
      "Epoch 3/80\n",
      "100/100 [==============================] - 173s 2s/step - loss: 1.4927 - acc: 0.6194 - val_loss: 1.4621 - val_acc: 0.6719\n",
      "Epoch 4/80\n",
      "100/100 [==============================] - 173s 2s/step - loss: 1.3483 - acc: 0.6666 - val_loss: 0.9690 - val_acc: 0.6953\n",
      "Epoch 5/80\n",
      "100/100 [==============================] - 171s 2s/step - loss: 1.1779 - acc: 0.7192 - val_loss: 0.8098 - val_acc: 0.7566\n",
      "Epoch 6/80\n",
      "100/100 [==============================] - 167s 2s/step - loss: 1.1262 - acc: 0.7361 - val_loss: 0.7436 - val_acc: 0.7947\n",
      "Epoch 7/80\n",
      "100/100 [==============================] - 173s 2s/step - loss: 1.0428 - acc: 0.7611 - val_loss: 0.9680 - val_acc: 0.7812\n",
      "Epoch 8/80\n",
      "100/100 [==============================] - 169s 2s/step - loss: 0.9893 - acc: 0.7719 - val_loss: 0.8303 - val_acc: 0.8032\n",
      "Epoch 9/80\n",
      "100/100 [==============================] - 168s 2s/step - loss: 1.0112 - acc: 0.7781 - val_loss: 1.3758 - val_acc: 0.7867\n",
      "Epoch 10/80\n",
      "100/100 [==============================] - 173s 2s/step - loss: 0.9708 - acc: 0.7802 - val_loss: 0.9185 - val_acc: 0.8025\n",
      "Epoch 11/80\n",
      "100/100 [==============================] - 168s 2s/step - loss: 0.9345 - acc: 0.8024 - val_loss: 0.8399 - val_acc: 0.8201\n",
      "Epoch 12/80\n",
      "100/100 [==============================] - 168s 2s/step - loss: 0.9176 - acc: 0.8119 - val_loss: 1.0019 - val_acc: 0.8143\n",
      "Epoch 13/80\n",
      "100/100 [==============================] - 173s 2s/step - loss: 0.8972 - acc: 0.8080 - val_loss: 1.0446 - val_acc: 0.8168\n",
      "Epoch 14/80\n",
      "100/100 [==============================] - 170s 2s/step - loss: 0.8603 - acc: 0.8150 - val_loss: 0.7262 - val_acc: 0.8065\n",
      "Epoch 15/80\n",
      "100/100 [==============================] - 171s 2s/step - loss: 0.8213 - acc: 0.8334 - val_loss: 0.8338 - val_acc: 0.8408\n",
      "Epoch 16/80\n",
      "100/100 [==============================] - 175s 2s/step - loss: 0.8473 - acc: 0.8295 - val_loss: 0.8203 - val_acc: 0.8535\n",
      "Epoch 17/80\n",
      "100/100 [==============================] - 163s 2s/step - loss: 0.8361 - acc: 0.8355 - val_loss: 1.1473 - val_acc: 0.8198\n",
      "Epoch 18/80\n",
      "100/100 [==============================] - 166s 2s/step - loss: 0.8016 - acc: 0.8480 - val_loss: 0.8399 - val_acc: 0.8401\n",
      "Epoch 19/80\n",
      "100/100 [==============================] - 172s 2s/step - loss: 0.7724 - acc: 0.8502 - val_loss: 0.9652 - val_acc: 0.8443\n",
      "Epoch 20/80\n",
      "100/100 [==============================] - 169s 2s/step - loss: 0.8414 - acc: 0.8340 - val_loss: 0.7966 - val_acc: 0.8715\n",
      "Epoch 21/80\n",
      "100/100 [==============================] - 166s 2s/step - loss: 0.7895 - acc: 0.8550 - val_loss: 0.7607 - val_acc: 0.8554\n",
      "Epoch 22/80\n",
      "100/100 [==============================] - 170s 2s/step - loss: 0.7738 - acc: 0.8595 - val_loss: 0.7567 - val_acc: 0.8557\n",
      "Epoch 23/80\n",
      "100/100 [==============================] - 171s 2s/step - loss: 0.8147 - acc: 0.8447 - val_loss: 0.7967 - val_acc: 0.8627\n",
      "Epoch 24/80\n",
      "100/100 [==============================] - 169s 2s/step - loss: 0.8069 - acc: 0.8539 - val_loss: 0.6735 - val_acc: 0.8499\n",
      "Epoch 25/80\n",
      "100/100 [==============================] - 173s 2s/step - loss: 0.7344 - acc: 0.8736 - val_loss: 0.5579 - val_acc: 0.8653\n",
      "Epoch 26/80\n",
      "100/100 [==============================] - 168s 2s/step - loss: 0.7530 - acc: 0.8631 - val_loss: 0.9357 - val_acc: 0.8590\n",
      "Epoch 27/80\n",
      "100/100 [==============================] - 168s 2s/step - loss: 0.7943 - acc: 0.8602 - val_loss: 0.6801 - val_acc: 0.8786\n",
      "Epoch 28/80\n",
      "100/100 [==============================] - 202s 2s/step - loss: 0.7496 - acc: 0.8695 - val_loss: 0.6372 - val_acc: 0.8803\n",
      "Epoch 29/80\n",
      "100/100 [==============================] - 205s 2s/step - loss: 0.7159 - acc: 0.8727 - val_loss: 0.6470 - val_acc: 0.8715\n",
      "Epoch 30/80\n",
      "100/100 [==============================] - 212s 2s/step - loss: 0.7064 - acc: 0.8772 - val_loss: 0.8227 - val_acc: 0.8695\n",
      "Epoch 31/80\n",
      "100/100 [==============================] - 207s 2s/step - loss: 0.7561 - acc: 0.8641 - val_loss: 0.8930 - val_acc: 0.8550\n",
      "Epoch 32/80\n",
      "100/100 [==============================] - 202s 2s/step - loss: 0.7283 - acc: 0.8759 - val_loss: 0.8364 - val_acc: 0.8961\n",
      "Epoch 33/80\n",
      "100/100 [==============================] - 200s 2s/step - loss: 0.7322 - acc: 0.8710 - val_loss: 0.8030 - val_acc: 0.8914\n",
      "Epoch 34/80\n",
      "100/100 [==============================] - 204s 2s/step - loss: 0.6990 - acc: 0.8866 - val_loss: 0.6929 - val_acc: 0.8910\n",
      "Epoch 35/80\n",
      "100/100 [==============================] - 202s 2s/step - loss: 0.7139 - acc: 0.8788 - val_loss: 0.7144 - val_acc: 0.8884\n",
      "Epoch 36/80\n",
      "100/100 [==============================] - 205s 2s/step - loss: 0.6597 - acc: 0.8920 - val_loss: 0.7305 - val_acc: 0.8859\n",
      "Epoch 37/80\n",
      "100/100 [==============================] - 203s 2s/step - loss: 0.6845 - acc: 0.8863 - val_loss: 0.5649 - val_acc: 0.8906\n",
      "Epoch 38/80\n",
      "100/100 [==============================] - 201s 2s/step - loss: 0.7043 - acc: 0.8848 - val_loss: 0.6655 - val_acc: 0.8774\n",
      "Epoch 39/80\n",
      "100/100 [==============================] - 215s 2s/step - loss: 0.6594 - acc: 0.8972 - val_loss: 0.7644 - val_acc: 0.8808\n",
      "Epoch 40/80\n",
      "100/100 [==============================] - 204s 2s/step - loss: 0.6799 - acc: 0.8903 - val_loss: 0.7989 - val_acc: 0.8767\n",
      "Epoch 41/80\n",
      "100/100 [==============================] - 203s 2s/step - loss: 0.6683 - acc: 0.8922 - val_loss: 0.8197 - val_acc: 0.8811\n",
      "Epoch 42/80\n",
      "100/100 [==============================] - 200s 2s/step - loss: 0.6864 - acc: 0.8841 - val_loss: 0.5261 - val_acc: 0.8961\n",
      "Epoch 43/80\n",
      "100/100 [==============================] - 213s 2s/step - loss: 0.6757 - acc: 0.8924 - val_loss: 0.8211 - val_acc: 0.8623\n",
      "Epoch 44/80\n",
      "100/100 [==============================] - 211s 2s/step - loss: 0.6780 - acc: 0.8913 - val_loss: 0.6914 - val_acc: 0.8943\n",
      "Epoch 45/80\n",
      "100/100 [==============================] - 165s 2s/step - loss: 0.6938 - acc: 0.8919 - val_loss: 0.7958 - val_acc: 0.8881\n",
      "Epoch 46/80\n",
      "100/100 [==============================] - 168s 2s/step - loss: 0.6298 - acc: 0.9048 - val_loss: 0.6912 - val_acc: 0.8906\n",
      "Epoch 47/80\n",
      "100/100 [==============================] - 168s 2s/step - loss: 0.6789 - acc: 0.8944 - val_loss: 0.7271 - val_acc: 0.8862\n",
      "Epoch 48/80\n",
      "100/100 [==============================] - 169s 2s/step - loss: 0.6586 - acc: 0.8909 - val_loss: 0.5867 - val_acc: 0.8924\n",
      "Epoch 49/80\n",
      "100/100 [==============================] - 172s 2s/step - loss: 0.6256 - acc: 0.9066 - val_loss: 0.4943 - val_acc: 0.9042\n",
      "Epoch 50/80\n",
      "100/100 [==============================] - 170s 2s/step - loss: 0.6106 - acc: 0.9100 - val_loss: 0.8179 - val_acc: 0.8759\n",
      "Epoch 51/80\n",
      "100/100 [==============================] - 169s 2s/step - loss: 0.6157 - acc: 0.9066 - val_loss: 0.7086 - val_acc: 0.9023\n",
      "Epoch 52/80\n",
      "100/100 [==============================] - 166s 2s/step - loss: 0.6409 - acc: 0.8999 - val_loss: 0.6758 - val_acc: 0.8895\n",
      "Epoch 53/80\n",
      "100/100 [==============================] - 169s 2s/step - loss: 0.5961 - acc: 0.9161 - val_loss: 0.5845 - val_acc: 0.8910\n",
      "Epoch 54/80\n",
      "100/100 [==============================] - 166s 2s/step - loss: 0.6421 - acc: 0.9023 - val_loss: 0.5967 - val_acc: 0.9023\n",
      "Epoch 55/80\n",
      "100/100 [==============================] - 171s 2s/step - loss: 0.6567 - acc: 0.8992 - val_loss: 0.7563 - val_acc: 0.8932\n",
      "Epoch 56/80\n",
      "100/100 [==============================] - 167s 2s/step - loss: 0.6223 - acc: 0.9075 - val_loss: 0.5743 - val_acc: 0.9053\n",
      "Epoch 57/80\n",
      "100/100 [==============================] - 168s 2s/step - loss: 0.6296 - acc: 0.9027 - val_loss: 0.4847 - val_acc: 0.9015\n",
      "Epoch 58/80\n",
      "100/100 [==============================] - 164s 2s/step - loss: 0.6152 - acc: 0.9072 - val_loss: 0.7349 - val_acc: 0.9079\n",
      "Epoch 59/80\n",
      "100/100 [==============================] - 174s 2s/step - loss: 0.6360 - acc: 0.9062 - val_loss: 0.6455 - val_acc: 0.9031\n",
      "Epoch 60/80\n",
      "100/100 [==============================] - 169s 2s/step - loss: 0.5813 - acc: 0.9189 - val_loss: 1.0629 - val_acc: 0.8732\n",
      "Epoch 61/80\n",
      "100/100 [==============================] - 169s 2s/step - loss: 0.6287 - acc: 0.9052 - val_loss: 0.8636 - val_acc: 0.8910\n",
      "Epoch 62/80\n",
      "100/100 [==============================] - 164s 2s/step - loss: 0.6159 - acc: 0.9116 - val_loss: 0.8728 - val_acc: 0.8943\n",
      "Epoch 63/80\n",
      "100/100 [==============================] - 167s 2s/step - loss: 0.6108 - acc: 0.9111 - val_loss: 0.6287 - val_acc: 0.9052\n",
      "Epoch 64/80\n",
      "100/100 [==============================] - 168s 2s/step - loss: 0.6028 - acc: 0.9161 - val_loss: 0.6358 - val_acc: 0.8987\n",
      "Epoch 65/80\n",
      "100/100 [==============================] - 167s 2s/step - loss: 0.6218 - acc: 0.9029 - val_loss: 0.7783 - val_acc: 0.8847\n",
      "Epoch 66/80\n",
      "100/100 [==============================] - 174s 2s/step - loss: 0.6092 - acc: 0.9136 - val_loss: 0.4558 - val_acc: 0.9073\n",
      "Epoch 67/80\n",
      "100/100 [==============================] - 163s 2s/step - loss: 0.5654 - acc: 0.9212 - val_loss: 0.6881 - val_acc: 0.9123\n",
      "Epoch 68/80\n",
      "100/100 [==============================] - 170s 2s/step - loss: 0.5846 - acc: 0.9172 - val_loss: 1.0106 - val_acc: 0.8594\n",
      "Epoch 69/80\n",
      "100/100 [==============================] - 175s 2s/step - loss: 0.6151 - acc: 0.9090 - val_loss: 0.5416 - val_acc: 0.8884\n",
      "Epoch 70/80\n",
      "100/100 [==============================] - 171s 2s/step - loss: 0.5715 - acc: 0.9223 - val_loss: 0.7901 - val_acc: 0.8792\n",
      "Epoch 71/80\n",
      "100/100 [==============================] - 163s 2s/step - loss: 0.5588 - acc: 0.9285 - val_loss: 0.7051 - val_acc: 0.9070\n",
      "Epoch 72/80\n",
      "100/100 [==============================] - 173s 2s/step - loss: 0.6190 - acc: 0.9073 - val_loss: 0.5576 - val_acc: 0.9086\n",
      "Epoch 73/80\n",
      "100/100 [==============================] - 169s 2s/step - loss: 0.6285 - acc: 0.9069 - val_loss: 0.6965 - val_acc: 0.9038\n",
      "Epoch 74/80\n",
      "100/100 [==============================] - 175s 2s/step - loss: 0.5867 - acc: 0.9192 - val_loss: 0.6927 - val_acc: 0.8881\n",
      "Epoch 75/80\n",
      "100/100 [==============================] - 170s 2s/step - loss: 0.5667 - acc: 0.9250 - val_loss: 0.6772 - val_acc: 0.9104\n",
      "Epoch 76/80\n",
      "100/100 [==============================] - 169s 2s/step - loss: 0.5987 - acc: 0.9147 - val_loss: 0.5718 - val_acc: 0.8998\n",
      "Epoch 77/80\n",
      "100/100 [==============================] - 198s 2s/step - loss: 0.5431 - acc: 0.9337 - val_loss: 0.9293 - val_acc: 0.9012\n",
      "Epoch 78/80\n",
      "100/100 [==============================] - 214s 2s/step - loss: 0.5571 - acc: 0.9247 - val_loss: 0.9718 - val_acc: 0.9053\n",
      "Epoch 79/80\n",
      "100/100 [==============================] - 196s 2s/step - loss: 0.5597 - acc: 0.9205 - val_loss: 0.6321 - val_acc: 0.9148\n",
      "Epoch 80/80\n",
      "100/100 [==============================] - 202s 2s/step - loss: 0.5634 - acc: 0.9192 - val_loss: 0.7192 - val_acc: 0.9077\n"
     ]
    }
   ],
   "source": [
    "history = model.fit_generator(\n",
    "    train_generator,\n",
    "    steps_per_epoch=100,\n",
    "    epochs=80,\n",
    "    validation_data=validation_generator,\n",
    "    validation_steps=43)"
   ]
  },
  {
   "cell_type": "code",
   "execution_count": 5,
   "metadata": {},
   "outputs": [],
   "source": [
    " model.save('anucolormodel.h5')\n",
    "    "
   ]
  },
  {
   "cell_type": "code",
   "execution_count": 6,
   "metadata": {},
   "outputs": [
    {
     "data": {
      "image/png": "[encoded data removed]",
      "text/plain": [
       "<Figure size 432x288 with 1 Axes>"
      ]
     },
     "metadata": {
      "needs_background": "light"
     },
     "output_type": "display_data"
    },
    {
     "data": {
      "image/png": "[encoded data removed]",
      "text/plain": [
       "<Figure size 432x288 with 1 Axes>"
      ]
     },
     "metadata": {
      "needs_background": "light"
     },
     "output_type": "display_data"
    }
   ],
   "source": [
    "import matplotlib.pyplot as plt\n",
    "%matplotlib inline\n",
    "\n",
    "acc = history.history['acc']\n",
    "val_acc = history.history['val_acc']\n",
    "loss = history.history['loss']\n",
    "val_loss = history.history['val_loss']\n",
    "epochs = range(1, len(acc) + 1)\n",
    "plt.plot(epochs, acc, 'bo', label='Training acc')\n",
    "plt.plot(epochs, val_acc, 'b', label='Validation acc')\n",
    "plt.title('Training and validation accuracy')\n",
    "plt.legend()\n",
    "plt.figure()\n",
    "plt.plot(epochs, loss, 'bo', label='Training loss')\n",
    "plt.plot(epochs, val_loss, 'b', label='Validation loss')\n",
    "plt.title('Training and validation loss')\n",
    "plt.legend()\n",
    "plt.show()"
   ]
  },
  {
   "cell_type": "code",
   "execution_count": 8,
   "metadata": {},
   "outputs": [
    {
     "name": "stdout",
     "output_type": "stream",
     "text": [
      "Found 1369 images belonging to 33 classes.\n"
     ]
    }
   ],
   "source": [
    "test_dir = \"/home/asus/Desktop/Dataset_splits/test\"\n",
    "\n",
    "test_datagen = ImageDataGenerator(rescale=1./255)\n",
    "\n",
    "\n",
    "test_generator = test_datagen.flow_from_directory(\n",
    "    test_dir,\n",
    "    target_size=(150, 150), \n",
    "    batch_size=64,\n",
    "    class_mode='categorical')"
   ]
  },
  {
   "cell_type": "code",
   "execution_count": 9,
   "metadata": {},
   "outputs": [],
   "source": [
    "score = model.evaluate_generator(test_generator, steps=40, max_queue_size=10, workers=1, use_multiprocessing=False, verbose=0)"
   ]
  },
  {
   "cell_type": "code",
   "execution_count": 10,
   "metadata": {},
   "outputs": [
    {
     "name": "stdout",
     "output_type": "stream",
     "text": [
      "[0.48841479420661926, 0.9028163552284241]\n"
     ]
    }
   ],
   "source": [
    "print(score)"
   ]
  },
  {
   "cell_type": "code",
   "execution_count": null,
   "metadata": {},
   "outputs": [],
   "source": []
  }
 ],
 "metadata": {
  "kernelspec": {
   "display_name": "Python 3",
   "language": "python",
   "name": "python3"
  },
  "language_info": {
   "codemirror_mode": {
    "name": "ipython",
    "version": 3
   },
   "file_extension": ".py",
   "mimetype": "text/x-python",
   "name": "python",
   "nbconvert_exporter": "python",
   "pygments_lexer": "ipython3",
   "version": "3.7.4"
  }
 },
 "nbformat": 4,
 "nbformat_minor": 2
}
